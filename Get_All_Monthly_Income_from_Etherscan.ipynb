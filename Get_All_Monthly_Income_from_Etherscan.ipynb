{
  "nbformat": 4,
  "nbformat_minor": 0,
  "metadata": {
    "colab": {
      "name": "Get All Monthly Income from Etherscan.ipynb",
      "provenance": [],
      "collapsed_sections": [
        "ZEPpIh68GY-h"
      ],
      "toc_visible": true,
      "authorship_tag": "ABX9TyNmIer0Ougra7FeYAnplJcb",
      "include_colab_link": true
    },
    "kernelspec": {
      "display_name": "Python 3",
      "name": "python3"
    },
    "language_info": {
      "name": "python"
    }
  },
  "cells": [
    {
      "cell_type": "markdown",
      "metadata": {
        "id": "view-in-github",
        "colab_type": "text"
      },
      "source": [
        "<a href=\"https://colab.research.google.com/github/parkerburchett/EconCapstone/blob/main/Get_All_Monthly_Income_from_Etherscan.ipynb\" target=\"_parent\"><img src=\"https://colab.research.google.com/assets/colab-badge.svg\" alt=\"Open In Colab\"/></a>"
      ]
    },
    {
      "cell_type": "code",
      "metadata": {
        "id": "p-6c44YfUea1"
      },
      "source": [
        "# Constants\n",
        "\n",
        "\n",
        "# You need a way to figure out the first and last block mining of each of the pools. \n",
        "\n",
        "\n",
        "parker_wallet = '0x76fb6d38f28c44a13380220df21363bd7af45ee1'\n",
        "ethan_wallet = '0xceb4d0ca821420cf2553b9e244f6b52364613f94'"
      ],
      "execution_count": null,
      "outputs": []
    },
    {
      "cell_type": "markdown",
      "metadata": {
        "id": "eldsm3TLLL_l"
      },
      "source": [
        "### Setup Pyspark and Connect it to your google drive"
      ]
    },
    {
      "cell_type": "code",
      "metadata": {
        "colab": {
          "base_uri": "https://localhost:8080/"
        },
        "id": "xoBD2liiLBZ0",
        "outputId": "d84728a2-d0ea-478c-a824-ddf2200b171d"
      },
      "source": [
        "!pip install pyspark\n",
        "!pip install -U -q PyDrive\n",
        "!apt install openjdk-8-jdk-headless -qq\n",
        "import os\n",
        "os.environ[\"JAVA_HOME\"] = \"/usr/lib/jvm/java-8-openjdk-amd64\"\n",
        "\n",
        "# Open Connection to Google drive\n",
        "\n",
        "from google.colab import drive\n",
        "drive.mount('/content/drive')\n",
        "from pydrive.auth import GoogleAuth\n",
        "from pydrive.drive import GoogleDrive\n",
        "from google.colab import auth\n",
        "from oauth2client.client import GoogleCredentials\n",
        "\n",
        "# Authenticate and create the PyDrive client\n",
        "auth.authenticate_user()\n",
        "gauth = GoogleAuth()\n",
        "gauth.credentials = GoogleCredentials.get_application_default()\n",
        "drive = GoogleDrive(gauth)\n",
        "print(\"\\n\\nDRIVE SETUP\")"
      ],
      "execution_count": null,
      "outputs": [
        {
          "output_type": "stream",
          "text": [
            "Collecting pyspark\n",
            "\u001b[?25l  Downloading https://files.pythonhosted.org/packages/45/b0/9d6860891ab14a39d4bddf80ba26ce51c2f9dc4805e5c6978ac0472c120a/pyspark-3.1.1.tar.gz (212.3MB)\n",
            "\u001b[K     |████████████████████████████████| 212.3MB 73kB/s \n",
            "\u001b[?25hCollecting py4j==0.10.9\n",
            "\u001b[?25l  Downloading https://files.pythonhosted.org/packages/9e/b6/6a4fb90cd235dc8e265a6a2067f2a2c99f0d91787f06aca4bcf7c23f3f80/py4j-0.10.9-py2.py3-none-any.whl (198kB)\n",
            "\u001b[K     |████████████████████████████████| 204kB 38.8MB/s \n",
            "\u001b[?25hBuilding wheels for collected packages: pyspark\n",
            "  Building wheel for pyspark (setup.py) ... \u001b[?25l\u001b[?25hdone\n",
            "  Created wheel for pyspark: filename=pyspark-3.1.1-py2.py3-none-any.whl size=212767604 sha256=346621a66abd57fc33d75c7dc044acfe582178789eed195395cbffdb412d8b43\n",
            "  Stored in directory: /root/.cache/pip/wheels/0b/90/c0/01de724414ef122bd05f056541fb6a0ecf47c7ca655f8b3c0f\n",
            "Successfully built pyspark\n",
            "Installing collected packages: py4j, pyspark\n",
            "Successfully installed py4j-0.10.9 pyspark-3.1.1\n",
            "The following additional packages will be installed:\n",
            "  openjdk-8-jre-headless\n",
            "Suggested packages:\n",
            "  openjdk-8-demo openjdk-8-source libnss-mdns fonts-dejavu-extra\n",
            "  fonts-ipafont-gothic fonts-ipafont-mincho fonts-wqy-microhei\n",
            "  fonts-wqy-zenhei fonts-indic\n",
            "The following NEW packages will be installed:\n",
            "  openjdk-8-jdk-headless openjdk-8-jre-headless\n",
            "0 upgraded, 2 newly installed, 0 to remove and 30 not upgraded.\n",
            "Need to get 36.5 MB of archives.\n",
            "After this operation, 143 MB of additional disk space will be used.\n",
            "Selecting previously unselected package openjdk-8-jre-headless:amd64.\n",
            "(Reading database ... 160980 files and directories currently installed.)\n",
            "Preparing to unpack .../openjdk-8-jre-headless_8u282-b08-0ubuntu1~18.04_amd64.deb ...\n",
            "Unpacking openjdk-8-jre-headless:amd64 (8u282-b08-0ubuntu1~18.04) ...\n",
            "Selecting previously unselected package openjdk-8-jdk-headless:amd64.\n",
            "Preparing to unpack .../openjdk-8-jdk-headless_8u282-b08-0ubuntu1~18.04_amd64.deb ...\n",
            "Unpacking openjdk-8-jdk-headless:amd64 (8u282-b08-0ubuntu1~18.04) ...\n",
            "Setting up openjdk-8-jre-headless:amd64 (8u282-b08-0ubuntu1~18.04) ...\n",
            "update-alternatives: using /usr/lib/jvm/java-8-openjdk-amd64/jre/bin/orbd to provide /usr/bin/orbd (orbd) in auto mode\n",
            "update-alternatives: using /usr/lib/jvm/java-8-openjdk-amd64/jre/bin/servertool to provide /usr/bin/servertool (servertool) in auto mode\n",
            "update-alternatives: using /usr/lib/jvm/java-8-openjdk-amd64/jre/bin/tnameserv to provide /usr/bin/tnameserv (tnameserv) in auto mode\n",
            "Setting up openjdk-8-jdk-headless:amd64 (8u282-b08-0ubuntu1~18.04) ...\n",
            "update-alternatives: using /usr/lib/jvm/java-8-openjdk-amd64/bin/idlj to provide /usr/bin/idlj (idlj) in auto mode\n",
            "update-alternatives: using /usr/lib/jvm/java-8-openjdk-amd64/bin/wsimport to provide /usr/bin/wsimport (wsimport) in auto mode\n",
            "update-alternatives: using /usr/lib/jvm/java-8-openjdk-amd64/bin/jsadebugd to provide /usr/bin/jsadebugd (jsadebugd) in auto mode\n",
            "update-alternatives: using /usr/lib/jvm/java-8-openjdk-amd64/bin/native2ascii to provide /usr/bin/native2ascii (native2ascii) in auto mode\n",
            "update-alternatives: using /usr/lib/jvm/java-8-openjdk-amd64/bin/javah to provide /usr/bin/javah (javah) in auto mode\n",
            "update-alternatives: using /usr/lib/jvm/java-8-openjdk-amd64/bin/hsdb to provide /usr/bin/hsdb (hsdb) in auto mode\n",
            "update-alternatives: using /usr/lib/jvm/java-8-openjdk-amd64/bin/clhsdb to provide /usr/bin/clhsdb (clhsdb) in auto mode\n",
            "update-alternatives: using /usr/lib/jvm/java-8-openjdk-amd64/bin/xjc to provide /usr/bin/xjc (xjc) in auto mode\n",
            "update-alternatives: using /usr/lib/jvm/java-8-openjdk-amd64/bin/schemagen to provide /usr/bin/schemagen (schemagen) in auto mode\n",
            "update-alternatives: using /usr/lib/jvm/java-8-openjdk-amd64/bin/extcheck to provide /usr/bin/extcheck (extcheck) in auto mode\n",
            "update-alternatives: using /usr/lib/jvm/java-8-openjdk-amd64/bin/jhat to provide /usr/bin/jhat (jhat) in auto mode\n",
            "update-alternatives: using /usr/lib/jvm/java-8-openjdk-amd64/bin/wsgen to provide /usr/bin/wsgen (wsgen) in auto mode\n",
            "Mounted at /content/drive\n",
            "\n",
            "\n",
            "DRIVE SETUP\n"
          ],
          "name": "stdout"
        }
      ]
    },
    {
      "cell_type": "markdown",
      "metadata": {
        "id": "D57YpSnyLnN1"
      },
      "source": [
        "## Install Libraries "
      ]
    },
    {
      "cell_type": "code",
      "metadata": {
        "id": "2HRjFYf1LmL-"
      },
      "source": [
        "import pandas as pd\n",
        "import numpy as np\n",
        "import json\n",
        "import requests\n",
        "import math\n",
        "import datetime\n",
        "import matplotlib.pyplot as plt\n",
        "import time\n",
        "%matplotlib inline\n",
        "\n",
        "import pyspark\n",
        "from functools import reduce\n",
        "from pyspark.sql import *\n",
        "from pyspark.sql.functions import *\n",
        "from pyspark.sql.types import DataType\n",
        "from pyspark import SparkContext, SparkConf\n"
      ],
      "execution_count": null,
      "outputs": []
    },
    {
      "cell_type": "markdown",
      "metadata": {
        "id": "tK8odYhULw-2"
      },
      "source": [
        "### Create Spark Session"
      ]
    },
    {
      "cell_type": "code",
      "metadata": {
        "colab": {
          "base_uri": "https://localhost:8080/"
        },
        "id": "1clEsoKVLwbN",
        "outputId": "c08d71ac-dc48-42ab-e733-09844c830483"
      },
      "source": [
        "# create the spark session\n",
        "conf = SparkConf().set(\"spark.ui.port\", \"4050\") # copy and pasted this, dont' know what it means\n",
        "# create the context\n",
        "# try catch block lets you start again from the top without causing problems. \n",
        "try:\n",
        "  sc.stop()\n",
        "  sc = pyspark.SparkContext(conf=conf)\n",
        "except:\n",
        "  sc = pyspark.SparkContext(conf=conf)\n",
        "  \n",
        "spark = SparkSession.builder \\\n",
        "    .master('local[*]') \\\n",
        "    .config(\"spark.driver.memory\", \"15g\") \\\n",
        "    .appName('my-cool-app') \\\n",
        "    .getOrCreate()\n",
        "\n",
        "\n",
        "# you are just copy and pasting the spark config details\n",
        "\n",
        "print('Successfully Created Spark Session')"
      ],
      "execution_count": null,
      "outputs": [
        {
          "output_type": "stream",
          "text": [
            "Successfully Created Spark Session\n"
          ],
          "name": "stdout"
        }
      ]
    },
    {
      "cell_type": "markdown",
      "metadata": {
        "id": "gInzfyainX8H"
      },
      "source": [
        "## Methods to interact with the Etherscan.io API\n"
      ]
    },
    {
      "cell_type": "code",
      "metadata": {
        "id": "T7x-vmI5NPLL"
      },
      "source": [
        "def read_api_key():\n",
        "  api_key_json = open(r'/content/drive/MyDrive/etherScan_apiKey.json') # read in my private Etherscan.io API key from my Google Drive\n",
        "  etherscan_api_key =json.load(api_key_json)['key']\n",
        "  api_key_json.close()\n",
        "  return etherscan_api_key\n",
        "\n",
        "ETHERSCAN_API_KEY = read_api_key() # You api key is a constant so the variable name is UPPER CASE\n",
        "ETHERMINE_WALLET = '0xea674fdde714fd979de3edf0f56aa9716b898ec8'\n",
        "def query_normal_transactions(wallet_address, startblock=0, endblock=99999999): \n",
        "  \"\"\"\n",
        "    Ping Etherscan.io and get the most recent 10k transactions for this wallet.\n",
        "    Each of these takes ~4 seconds\n",
        "  \"\"\"\n",
        "\n",
        "\n",
        "  # wallets need to be lower case to get from the API\n",
        "  api_request_text =f'https://api.etherscan.io/api?module=account&action=txlist&address={wallet_address.lower()}&startblock={startblock}&endblock={endblock}&sort=asc&apikey={ETHERSCAN_API_KEY}'\n",
        "     \n",
        "  response = requests.get(api_request_text) # you cannot make more than 5 requests per second. This has yet to be a problem\n",
        "  api_response_text = json.loads(response.text) \n",
        "  \n",
        "  # error handling to make sure that the call is going through\n",
        "  if api_response_text['message'] != 'OK': # untested\n",
        "    print(f'you got an error at address={wallet_address} \\nstartblock= {startblock}\\nendblock={endblock}')\n",
        "\n",
        "  else:\n",
        "    transaction_list = api_response_text['result']\n",
        "    simplified_transactions = parse_normal_transactions(transaction_list=transaction_list, wallet_address=wallet_address)\n",
        "\n",
        "    # I don't think I need to do this since union. already removes duplicates\n",
        "    largest_block = int(simplified_transactions[-1][2]) # O(1)\n",
        "    print(f'the largest block this call was {largest_block}') #You need a catch for if it breaks\n",
        "    # while simplified_transactions[-1][2] == largest_block:\n",
        "    #   simplified_transactions.pop(-1) # O(1) * 100 approx upper bound. This gets rid of all the blocks that are the same as the last block\n",
        "\n",
        "    column_names = ['to_address',\n",
        "                    'from_address',\n",
        "                    'block_number',\n",
        "                    'transaction_year',\n",
        "                    'transaction_month',\n",
        "                    'value_in_ether']\n",
        "    \n",
        "    # create a rdd of this batch of transactions\n",
        "    rdd = spark.createDataFrame(simplified_transactions, schema=column_names)\n",
        "    return rdd, largest_block\n",
        "\n",
        "def parse_normal_transactions(transaction_list: list, wallet_address: str)-> list:\n",
        "    \"\"\"\n",
        "      Converts transaction data into a easy to read from and excludes the last block\n",
        "    :param transaction_list: A list of dictionary objects. Each dictionary is a single transaction.\n",
        "    :return:\n",
        "        simple_transactions: a list of tuples storing (to_address, from_address, Block number, Year, Month, Value in Ether)\n",
        "                                      Data types are: (String, String, int, int, int, float)\n",
        "    \"\"\"\n",
        "    simplified_transactions =[(trans_dict['to'],\n",
        "                              trans_dict['from'],\n",
        "                              int(trans_dict['blockNumber']),\n",
        "                              datetime.datetime.fromtimestamp(int(trans_dict['timeStamp'])).year,\n",
        "                               datetime.datetime.fromtimestamp(int(trans_dict['timeStamp'])).month,\n",
        "                              int(trans_dict['value'])/math.pow(10, 18)) # convert the 'value' column from wei to Ether\n",
        "                              for trans_dict in transaction_list if trans_dict['from'] == wallet_address\n",
        "                              ]\n",
        "    return simplified_transactions"
      ],
      "execution_count": null,
      "outputs": []
    },
    {
      "cell_type": "markdown",
      "metadata": {
        "id": "ZEPpIh68GY-h"
      },
      "source": [
        "## Next steps are to get a dictionary of block: time chunks. \n",
        "\n",
        "Use the etherscan.io API to determine the first and last block of each year. You will use these blocks to chunk the the data in year-pool miner monthly income  files\n"
      ]
    },
    {
      "cell_type": "code",
      "metadata": {
        "colab": {
          "base_uri": "https://localhost:8080/"
        },
        "id": "VYZqQ6IUlIMG",
        "outputId": "c2ed12b6-ed03-4e17-b1b1-972a77a9147c"
      },
      "source": [
        "start_year = 2016\n",
        "years = [datetime.datetime(start_year+i,1,1) for i in range(0,6)]\n",
        "unix_timestamp_years = [int(year.timestamp()) for year in years]\n",
        "unix_timestamp_march31_2016 = int(datetime.datetime(2021,3,31).timestamp())\n",
        "\n",
        "command_for_block_after_timestamp = f'https://api.etherscan.io/api?module=block&action=getblocknobytime&timestamp={unix_timestamp_years[0]}&closest=after&apikey={ETHERSCAN_API_KEY}'\n",
        "\n",
        "year_block_dict ={}\n",
        "\n",
        "for unix_time in unix_timestamp_years:\n",
        "  time.sleep(.2) # don't overwhelm the API\n",
        "  response = requests.get(f'https://api.etherscan.io/api?module=block&action=getblocknobytime&timestamp={unix_time}&closest=after&apikey={ETHERSCAN_API_KEY}')\n",
        "  response_text = json.loads(response.text) \n",
        "  block = response_text['result']\n",
        "  year_block_dict[int(datetime.datetime.fromtimestamp(unix_time).year)]= block\n",
        "\n",
        "print(year_block_dict)\n",
        "response = requests.get(f'https://api.etherscan.io/api?module=block&action=getblocknobytime&timestamp={unix_timestamp_march31_2016}&closest=after&apikey={ETHERSCAN_API_KEY}')\n",
        "response_text = json.loads(response.text) \n",
        "march_2021_block = response_text['result']\n",
        "march_2021_block\n",
        "year_block_dict['2022'] = march_2021_block # this is to make the code work. as written "
      ],
      "execution_count": null,
      "outputs": [
        {
          "output_type": "stream",
          "text": [
            "{2016: '778483', 2017: '2912407', 2018: '4832686', 2019: '6988615', 2020: '9193266', 2021: '11565019'}\n"
          ],
          "name": "stdout"
        }
      ]
    },
    {
      "cell_type": "code",
      "metadata": {
        "id": "Kd57cH8m1g6z"
      },
      "source": [
        "def get_monthly_miner_income_statements_chunk(year,pool_address):\n",
        "  \"\"\"\n",
        "    Ping every transaction where {pool_address} is the sender and cast it as a pyspark dataframe.\n",
        "\n",
        "    add a year_month column. \n",
        "\n",
        "    Group by to_address and year_month\n",
        "\n",
        "    cast as a pandas df\n",
        "\n",
        "    Save the document to a file in this local runtime of google drive. \n",
        "  \"\"\"\n",
        "  start = datetime.datetime.now()\n",
        "  min_block = int(year_block_dict[year]) # if year = 2018 then this gets all miner income in 2018\n",
        "  max_block = int(year_block_dict[year+1]) # all blocks must be within this range\n",
        "\n",
        "\n",
        "  i=0\n",
        "  #Inital call to set up transaction rdd. You will union transactions on to this.\n",
        "  transactions_rdd, largest_block = query_normal_transactions(wallet_address=pool_address, startblock=min_block, endblock=max_block)\n",
        "\n",
        "  while largest_block < max_block:\n",
        "    try:\n",
        "      # repeat the call picking up where you left off last call since you can only get 10,000 records per call\n",
        "      next_chunk_rdd, largest_block = query_normal_transactions(wallet_address=pool_address, startblock=largest_block) \n",
        "      transactions_rdd = transactions_rdd.union(next_chunk_rdd) # union removes duplicates\n",
        "      # this lets you see progress\n",
        "      if i %10 ==0:\n",
        "        time_dif = datetime.datetime.now() - start\n",
        "        start = datetime.datetime.now()\n",
        "        print(f'Call:{i} Time:{time_dif} Block:{largest_block} Blocks Left:{max_block - largest_block}')\n",
        "      i+=1\n",
        "    except:\n",
        "      print(f'you got an error at {largest_block}\\n {next_chunk_rdd.head(1)} ')\n",
        "\n",
        "  \n",
        "  # add the year_month column. \n",
        "  transactions_rdd = transactions_rdd.withColumn('year_month', concat(transactions_rdd.transaction_year,lit(\"-\"),\n",
        "                                                                      transactions_rdd.transaction_month))\n",
        "  global miner_df\n",
        "  miner_df = group_miners(transactions_rdd,pool_address, year)\n",
        "  save_miner_df_to_drive(miner_df, year, pool_address)\n",
        "\n",
        "\n",
        "\n",
        "def group_miners(transactions_rdd, pool_address, year):\n",
        "  \"\"\"\n",
        "\n",
        "    Group the transaction rdd into year_month, to address groups by summing the value_in_ether. \n",
        "  input: the transaction rdd for a single year.\n",
        "\n",
        "  Do this of this sql command\n",
        "\n",
        "     SELECT to_address, year_month, ROUND(sum(value_in_ether),9) as eth_earned\n",
        "                                    FROM raw_transactions \n",
        "                                    Where block_number < {max_block} and block_number > {min_block}\n",
        "                                    GROUP BY to_address, year_month\n",
        "                                    ORDER BY to_address, year_month  \n",
        "  \"\"\"\n",
        "\n",
        "  miner_rdd = transactions_rdd.groupby('to_address','year_month').sum('value_in_ether') \n",
        "  miner_rdd = miner_rdd.withColumn('from_address', lit(pool_address)) # add the pool address as a column might be unneccessary since you have this in the header\n",
        "  miner_rdd = miner_rdd.filter(miner_rdd['year_month'].contains(str(year))) # only include the  from the year you are considering\n",
        "  print('You have done data aggregation')\n",
        "  df = miner_rdd.toPandas()\n",
        "\n",
        "  # you might want to drop the other columns\n",
        "  # you would drop (Year, Month, and pool address column since it is in the header.\n",
        "  print('Verify that these months are correct')\n",
        "  print(df['year_month'].unique())\n",
        "  return df\n",
        "\n",
        "def save_miner_df_to_drive(miner_df, year, pool_address):\n",
        "  \"\"\"\n",
        "    Save the miner_df to your google drive in a particular folder\n",
        "    df: a grouped miner income statement\n",
        "    yera: the year you are saving data for. \n",
        "    pool_address: the ETH wallet address of the pool\n",
        "  \"\"\"\n",
        "  PATH_TO_SAVE = f'/content/drive/MyDrive/transaction_data/miner_income_{year}_{pool_address}.csv'\n",
        "  miner_df.to_csv(PATH_TO_SAVE,index=False) # save to your google drive\n",
        "  print(f'Saved {year} and {pool_address} to Google Drive')\n",
        "\n",
        "\n"
      ],
      "execution_count": null,
      "outputs": []
    },
    {
      "cell_type": "code",
      "metadata": {
        "colab": {
          "base_uri": "https://localhost:8080/",
          "height": 35
        },
        "id": "NFY1_CDG9e5z",
        "outputId": "4d913137-3d8d-41c2-cefb-fe1511cbf816"
      },
      "source": [
        "HIVEON_POOL= '0x1aD91ee08f21bE3dE0BA2ba6918E714dA6B45836'\n",
        "SPARK_POOL = '0x5A0b54D5dc17e0AadC383d2db43B0a0D3E029c4c'\n",
        "F2_POOL = '0x829BD824B016326A401d083B33D092293333A830'\n",
        "ZHIZHU_TOP_POOL = '0x04668Ec2f57cC15c381b461B9fEDaB5D451c8F7F'\n",
        "ETHERMINE_POOL = '0xEA674fdDe714fd979de3EdF0F56AA9716B898ec8'\n",
        "\n",
        "POOLS = [ETHERMINE_POOL, HIVEON_POOL, SPARK_POOL, F2_POOL, ZHIZHU_TOP_POOL]\n",
        "\n",
        "pools = [p.lower() for p in POOLS]\n",
        "pools[0]"
      ],
      "execution_count": null,
      "outputs": [
        {
          "output_type": "execute_result",
          "data": {
            "application/vnd.google.colaboratory.intrinsic+json": {
              "type": "string"
            },
            "text/plain": [
              "'0xea674fdde714fd979de3edf0f56aa9716b898ec8'"
            ]
          },
          "metadata": {
            "tags": []
          },
          "execution_count": 8
        }
      ]
    },
    {
      "cell_type": "markdown",
      "metadata": {
        "id": "DA1CabmvKbgj"
      },
      "source": [
        "# Main Call for gettting all the data for each of the pools"
      ]
    },
    {
      "cell_type": "code",
      "metadata": {
        "colab": {
          "background_save": true,
          "base_uri": "https://localhost:8080/"
        },
        "id": "RD5W5Pnq8Gtm",
        "outputId": "c7f0abfc-d7eb-4a74-dc13-70e9398cb779"
      },
      "source": [
        "%%time\n",
        "years = [2016,2017,2018,2019,2020,2021]\n",
        "for pool in pools:\n",
        "  for year in years:\n",
        "    try:\n",
        "      get_monthly_miner_income_statements_chunk(year, pool)\n",
        "    except:\n",
        "      print(f'broke at {year}   {pool}')\n",
        "    # should let run for a few hours and come back later\n",
        "    # you can see these errors below you got a bunch of nested execptions\n",
        "\n",
        "    # I think the right approach is to get all of pool into a single diricetoy, then all of sparkpol\n",
        "    \n",
        "\n"
      ],
      "execution_count": null,
      "outputs": [
        {
          "output_type": "stream",
          "text": [
            "Call:0 Time:0:00:07.204584 Block:1312289 Blocks Left:1600118\n",
            "Call:10 Time:0:00:39.715882 Block:1579298 Blocks Left:1333109\n",
            "Call:20 Time:0:00:37.299492 Block:1765549 Blocks Left:1146858\n",
            "Call:30 Time:0:00:37.810163 Block:1939491 Blocks Left:972916\n",
            "Call:40 Time:0:00:34.167039 Block:2095091 Blocks Left:817316\n",
            "Call:50 Time:0:00:33.987780 Block:2249337 Blocks Left:663070\n",
            "Call:60 Time:0:00:36.353230 Block:2386785 Blocks Left:525622\n",
            "Call:70 Time:0:00:43.005723 Block:2512001 Blocks Left:400406\n",
            "Call:80 Time:0:00:37.394682 Block:2645070 Blocks Left:267337\n",
            "Call:90 Time:0:00:40.807491 Block:2773974 Blocks Left:138433\n",
            "Call:100 Time:0:00:37.293271 Block:2907022 Blocks Left:5385\n",
            "You have done data aggregation\n",
            "Verify that these months are correct\n",
            "['2016-3' '2016-4' '2016-5' '2016-6' '2016-7' '2016-8' '2016-9' '2016-10'\n",
            " '2016-11' '2016-12']\n",
            "Saved 2016 and 0xea674fdde714fd979de3edf0f56aa9716b898ec8 to Google Drive\n",
            "you got an error at address=0x1ad91ee08f21be3de0ba2ba6918e714da6b45836 \n",
            "startblock= 778483\n",
            "endblock=2912407\n",
            "broke at 2016   0x1ad91ee08f21be3de0ba2ba6918e714da6b45836\n",
            "you got an error at address=0x5a0b54d5dc17e0aadc383d2db43b0a0d3e029c4c \n",
            "startblock= 778483\n",
            "endblock=2912407\n",
            "broke at 2016   0x5a0b54d5dc17e0aadc383d2db43b0a0d3e029c4c\n",
            "you got an error at address=0x829bd824b016326a401d083b33d092293333a830 \n",
            "startblock= 778483\n",
            "endblock=2912407\n",
            "broke at 2016   0x829bd824b016326a401d083b33d092293333a830\n",
            "you got an error at address=0x04668ec2f57cc15c381b461b9fedab5d451c8f7f \n",
            "startblock= 778483\n",
            "endblock=2912407\n",
            "broke at 2016   0x04668ec2f57cc15c381b461b9fedab5d451c8f7f\n",
            "Call:0 Time:0:00:14.448688 Block:2939583 Blocks Left:1893103\n",
            "Call:10 Time:0:00:42.952313 Block:3063651 Blocks Left:1769035\n",
            "Call:20 Time:0:00:40.185430 Block:3185247 Blocks Left:1647439\n",
            "Call:30 Time:0:00:39.389490 Block:3295701 Blocks Left:1536985\n",
            "Call:40 Time:0:00:52.519959 Block:3392139 Blocks Left:1440547\n",
            "Call:50 Time:0:00:49.706320 Block:3480625 Blocks Left:1352061\n",
            "Call:60 Time:0:00:40.517022 Block:3571457 Blocks Left:1261229\n",
            "Call:70 Time:0:00:42.918287 Block:3659235 Blocks Left:1173451\n",
            "Call:80 Time:0:00:42.258532 Block:3739421 Blocks Left:1093265\n",
            "Call:90 Time:0:00:44.376813 Block:3806140 Blocks Left:1026546\n",
            "Call:100 Time:0:00:41.760059 Block:3862067 Blocks Left:970619\n",
            "Call:110 Time:0:00:42.565277 Block:3907363 Blocks Left:925323\n",
            "Call:120 Time:0:00:43.436968 Block:3948486 Blocks Left:884200\n",
            "Call:130 Time:0:00:45.108656 Block:3986637 Blocks Left:846049\n",
            "Call:140 Time:0:00:46.836618 Block:4023156 Blocks Left:809530\n",
            "Call:150 Time:0:00:42.724406 Block:4056387 Blocks Left:776299\n",
            "Call:160 Time:0:00:39.640672 Block:4089818 Blocks Left:742868\n",
            "Call:170 Time:0:00:42.697076 Block:4122273 Blocks Left:710413\n",
            "Call:180 Time:0:00:39.070273 Block:4153752 Blocks Left:678934\n",
            "Call:190 Time:0:00:45.696740 Block:4183453 Blocks Left:649233\n",
            "Call:200 Time:0:00:41.845313 Block:4212712 Blocks Left:619974\n",
            "Call:210 Time:0:00:42.351444 Block:4242457 Blocks Left:590229\n",
            "Call:220 Time:0:00:59.577195 Block:4271899 Blocks Left:560787\n",
            "Call:230 Time:0:00:49.275888 Block:4300687 Blocks Left:531999\n",
            "Call:240 Time:0:00:51.452102 Block:4329274 Blocks Left:503412\n",
            "Call:250 Time:0:00:50.281492 Block:4358942 Blocks Left:473744\n",
            "Call:260 Time:0:00:47.223106 Block:4397328 Blocks Left:435358\n",
            "Call:270 Time:0:00:45.181120 Block:4441595 Blocks Left:391091\n",
            "Call:280 Time:0:00:43.374828 Block:4485717 Blocks Left:346969\n",
            "Call:290 Time:0:00:50.006781 Block:4532820 Blocks Left:299866\n",
            "Call:300 Time:0:00:47.678306 Block:4579042 Blocks Left:253644\n",
            "Call:310 Time:0:00:44.270303 Block:4622008 Blocks Left:210678\n",
            "Call:320 Time:0:00:40.396754 Block:4655337 Blocks Left:177349\n",
            "Call:330 Time:0:00:44.760405 Block:4667474 Blocks Left:165212\n",
            "Call:340 Time:0:00:39.127907 Block:4695150 Blocks Left:137536\n",
            "Call:350 Time:0:00:38.749228 Block:4715412 Blocks Left:117274\n",
            "Call:360 Time:0:00:41.463657 Block:4742646 Blocks Left:90040\n",
            "Call:370 Time:0:00:36.128529 Block:4759798 Blocks Left:72888\n",
            "Call:380 Time:0:00:37.446977 Block:4783781 Blocks Left:48905\n",
            "Call:390 Time:0:00:41.345134 Block:4801892 Blocks Left:30794\n",
            "Call:400 Time:0:00:35.687064 Block:4827322 Blocks Left:5364\n",
            "You have done data aggregation\n",
            "Verify that these months are correct\n",
            "['2017-1' '2017-2' '2017-3' '2017-4' '2017-5' '2017-6' '2017-7' '2017-8'\n",
            " '2017-9' '2017-10' '2017-11' '2017-12']\n",
            "Saved 2017 and 0xea674fdde714fd979de3edf0f56aa9716b898ec8 to Google Drive\n",
            "you got an error at address=0x1ad91ee08f21be3de0ba2ba6918e714da6b45836 \n",
            "startblock= 2912407\n",
            "endblock=4832686\n",
            "broke at 2017   0x1ad91ee08f21be3de0ba2ba6918e714da6b45836\n",
            "Call:0 Time:0:00:05.572242 Block:4330116 Blocks Left:502570\n",
            "Call:10 Time:0:00:33.530295 Block:4406920 Blocks Left:425766\n",
            "Call:20 Time:0:00:29.603607 Block:4500004 Blocks Left:332682\n",
            "Call:30 Time:0:00:30.107615 Block:4605678 Blocks Left:227008\n",
            "Call:40 Time:0:00:36.310303 Block:4695535 Blocks Left:137151\n",
            "Call:50 Time:0:00:34.585510 Block:4770298 Blocks Left:62388\n",
            "Call:60 Time:0:00:31.988754 Block:4834815 Blocks Left:-2129\n",
            "You have done data aggregation\n",
            "Verify that these months are correct\n",
            "['2017-8' '2017-9' '2017-10' '2017-11' '2017-12']\n",
            "Saved 2017 and 0x5a0b54d5dc17e0aadc383d2db43b0a0d3e029c4c to Google Drive\n",
            "Call:0 Time:0:00:06.677107 Block:3917514 Blocks Left:915172\n",
            "Call:10 Time:0:00:30.246291 Block:3951425 Blocks Left:881261\n",
            "Call:20 Time:0:00:31.346681 Block:3981811 Blocks Left:850875\n",
            "Call:30 Time:0:00:34.491522 Block:4015375 Blocks Left:817311\n",
            "you got an error at 4015586\n",
            " [Row(to_address='0x6afc704e994e82b0fa47206dd46255951abeb397', from_address='0x829bd824b016326a401d083b33d092293333a830', block_number=4015375, transaction_year=2017, transaction_month=7, value_in_ether=0.6832872559291878)] \n",
            "you got an error at 4015586\n",
            " [Row(to_address='0x6afc704e994e82b0fa47206dd46255951abeb397', from_address='0x829bd824b016326a401d083b33d092293333a830', block_number=4015375, transaction_year=2017, transaction_month=7, value_in_ether=0.6832872559291878)] \n",
            "you got an error at 4015586\n",
            " [Row(to_address='0x6afc704e994e82b0fa47206dd46255951abeb397', from_address='0x829bd824b016326a401d083b33d092293333a830', block_number=4015375, transaction_year=2017, transaction_month=7, value_in_ether=0.6832872559291878)] \n",
            "you got an error at 4019841\n",
            " [Row(to_address='0xc54b7e03cd9d3dd7862c003a0c6280083aa84859', from_address='0x829bd824b016326a401d083b33d092293333a830', block_number=4015586, transaction_year=2017, transaction_month=7, value_in_ether=0.12785232690670703)] \n",
            "Call:40 Time:0:00:33.274307 Block:4043036 Blocks Left:789650\n",
            "Call:50 Time:0:00:30.341003 Block:4069913 Blocks Left:762773\n",
            "Call:60 Time:0:00:31.343880 Block:4097769 Blocks Left:734917\n",
            "Call:70 Time:0:00:35.253249 Block:4122300 Blocks Left:710386\n",
            "Call:80 Time:0:00:31.864547 Block:4146849 Blocks Left:685837\n",
            "Call:90 Time:0:00:38.334026 Block:4171861 Blocks Left:660825\n",
            "Call:100 Time:0:00:31.304376 Block:4196917 Blocks Left:635769\n",
            "Call:110 Time:0:00:30.700298 Block:4218623 Blocks Left:614063\n",
            "Call:120 Time:0:00:32.750358 Block:4240121 Blocks Left:592565\n",
            "Call:130 Time:0:00:32.672023 Block:4264726 Blocks Left:567960\n",
            "Call:140 Time:0:00:31.890571 Block:4286388 Blocks Left:546298\n",
            "Call:150 Time:0:00:29.300157 Block:4312194 Blocks Left:520492\n",
            "Call:160 Time:0:00:29.793098 Block:4335197 Blocks Left:497489\n",
            "Call:170 Time:0:00:36.943907 Block:4358228 Blocks Left:474458\n",
            "Call:180 Time:0:00:29.794872 Block:4393492 Blocks Left:439194\n",
            "Call:190 Time:0:00:31.094629 Block:4438069 Blocks Left:394617\n",
            "Call:200 Time:0:00:33.172952 Block:4486324 Blocks Left:346362\n",
            "Call:210 Time:0:00:30.444036 Block:4530295 Blocks Left:302391\n",
            "Call:220 Time:0:00:31.732842 Block:4579529 Blocks Left:253157\n",
            "Call:230 Time:0:00:29.626583 Block:4623177 Blocks Left:209509\n",
            "Call:240 Time:0:00:29.388676 Block:4672200 Blocks Left:160486\n",
            "Call:250 Time:0:00:31.497230 Block:4717746 Blocks Left:114940\n",
            "Call:260 Time:0:00:30.514895 Block:4758130 Blocks Left:74556\n",
            "Call:270 Time:0:00:32.961258 Block:4798301 Blocks Left:34385\n",
            "You have done data aggregation\n",
            "Verify that these months are correct\n",
            "['2017-6' '2017-7' '2017-8' '2017-9' '2017-10' '2017-11' '2017-12']\n",
            "Saved 2017 and 0x829bd824b016326a401d083b33d092293333a830 to Google Drive\n",
            "you got an error at address=0x04668ec2f57cc15c381b461b9fedab5d451c8f7f \n",
            "startblock= 2912407\n",
            "endblock=4832686\n",
            "broke at 2017   0x04668ec2f57cc15c381b461b9fedab5d451c8f7f\n",
            "Call:0 Time:0:00:07.405997 Block:4835636 Blocks Left:2152979\n",
            "Call:10 Time:0:00:36.149204 Block:4853694 Blocks Left:2134921\n",
            "Call:20 Time:0:00:35.710411 Block:4873257 Blocks Left:2115358\n",
            "Call:30 Time:0:00:37.882151 Block:4886997 Blocks Left:2101618\n",
            "Call:40 Time:0:00:35.789873 Block:4905363 Blocks Left:2083252\n",
            "Call:50 Time:0:00:36.074740 Block:4919375 Blocks Left:2069240\n",
            "Call:60 Time:0:00:37.729612 Block:4937720 Blocks Left:2050895\n",
            "Call:70 Time:0:00:38.036284 Block:4953592 Blocks Left:2035023\n",
            "Call:80 Time:0:00:39.078208 Block:4971881 Blocks Left:2016734\n",
            "Call:90 Time:0:00:41.204957 Block:4991295 Blocks Left:1997320\n",
            "Call:100 Time:0:00:39.159588 Block:5005414 Blocks Left:1983201\n",
            "Call:110 Time:0:00:37.295566 Block:5023010 Blocks Left:1965605\n",
            "Call:120 Time:0:00:36.395170 Block:5037170 Blocks Left:1951445\n",
            "Call:130 Time:0:00:36.227928 Block:5054744 Blocks Left:1933871\n",
            "Call:140 Time:0:00:36.652651 Block:5072697 Blocks Left:1915918\n",
            "Call:150 Time:0:00:37.269912 Block:5086796 Blocks Left:1901819\n",
            "Call:160 Time:0:00:41.826950 Block:5104794 Blocks Left:1883821\n",
            "Call:170 Time:0:00:34.945310 Block:5119962 Blocks Left:1868653\n",
            "Call:180 Time:0:00:39.376948 Block:5136357 Blocks Left:1852258\n",
            "Call:190 Time:0:00:37.484873 Block:5153599 Blocks Left:1835016\n",
            "Call:200 Time:0:00:34.965441 Block:5167494 Blocks Left:1821121\n",
            "Call:210 Time:0:00:38.312167 Block:5184413 Blocks Left:1804202\n",
            "Call:220 Time:0:00:35.169829 Block:5200887 Blocks Left:1787728\n",
            "Call:230 Time:0:00:39.349484 Block:5214997 Blocks Left:1773618\n",
            "Call:240 Time:0:00:35.040993 Block:5231516 Blocks Left:1757099\n",
            "Call:250 Time:0:00:36.979834 Block:5244909 Blocks Left:1743706\n",
            "Call:260 Time:0:00:40.617108 Block:5260859 Blocks Left:1727756\n",
            "Call:270 Time:0:00:38.675865 Block:5276460 Blocks Left:1712155\n",
            "Call:280 Time:0:00:35.307799 Block:5289867 Blocks Left:1698748\n",
            "Call:290 Time:0:00:36.344773 Block:5305929 Blocks Left:1682686\n",
            "Call:300 Time:0:00:37.396492 Block:5322212 Blocks Left:1666403\n",
            "Call:310 Time:0:00:35.232280 Block:5335745 Blocks Left:1652870\n",
            "Call:320 Time:0:00:41.073199 Block:5351617 Blocks Left:1636998\n",
            "Call:330 Time:0:00:42.842977 Block:5367359 Blocks Left:1621256\n",
            "Call:340 Time:0:00:37.682202 Block:5382526 Blocks Left:1606089\n",
            "Call:350 Time:0:00:35.584611 Block:5399336 Blocks Left:1589279\n",
            "Call:360 Time:0:00:37.239477 Block:5414214 Blocks Left:1574401\n",
            "Call:370 Time:0:00:39.305412 Block:5431067 Blocks Left:1557548\n",
            "broke at 2018   0xea674fdde714fd979de3edf0f56aa9716b898ec8\n",
            "you got an error at address=0x1ad91ee08f21be3de0ba2ba6918e714da6b45836 \n",
            "startblock= 4832686\n",
            "endblock=6988615\n",
            "broke at 2018   0x1ad91ee08f21be3de0ba2ba6918e714da6b45836\n"
          ],
          "name": "stdout"
        },
        {
          "output_type": "stream",
          "text": [
            "ERROR:root:Exception while sending command.\n",
            "Traceback (most recent call last):\n",
            "  File \"/usr/local/lib/python3.7/dist-packages/py4j/java_gateway.py\", line 1207, in send_command\n",
            "    raise Py4JNetworkError(\"Answer from Java side is empty\")\n",
            "py4j.protocol.Py4JNetworkError: Answer from Java side is empty\n",
            "\n",
            "During handling of the above exception, another exception occurred:\n",
            "\n",
            "Traceback (most recent call last):\n",
            "  File \"/usr/local/lib/python3.7/dist-packages/py4j/java_gateway.py\", line 1033, in send_command\n",
            "    response = connection.send_command(command)\n",
            "  File \"/usr/local/lib/python3.7/dist-packages/py4j/java_gateway.py\", line 1212, in send_command\n",
            "    \"Error while receiving\", e, proto.ERROR_ON_RECEIVE)\n",
            "py4j.protocol.Py4JNetworkError: Error while receiving\n"
          ],
          "name": "stderr"
        },
        {
          "output_type": "stream",
          "text": [
            "broke at 2018   0x5a0b54d5dc17e0aadc383d2db43b0a0d3e029c4c\n"
          ],
          "name": "stdout"
        },
        {
          "output_type": "stream",
          "text": [
            "ERROR:root:Exception while sending command.\n",
            "Traceback (most recent call last):\n",
            "  File \"/usr/local/lib/python3.7/dist-packages/py4j/java_gateway.py\", line 1207, in send_command\n",
            "    raise Py4JNetworkError(\"Answer from Java side is empty\")\n",
            "py4j.protocol.Py4JNetworkError: Answer from Java side is empty\n",
            "\n",
            "During handling of the above exception, another exception occurred:\n",
            "\n",
            "Traceback (most recent call last):\n",
            "  File \"/usr/local/lib/python3.7/dist-packages/py4j/java_gateway.py\", line 1033, in send_command\n",
            "    response = connection.send_command(command)\n",
            "  File \"/usr/local/lib/python3.7/dist-packages/py4j/java_gateway.py\", line 1212, in send_command\n",
            "    \"Error while receiving\", e, proto.ERROR_ON_RECEIVE)\n",
            "py4j.protocol.Py4JNetworkError: Error while receiving\n"
          ],
          "name": "stderr"
        },
        {
          "output_type": "stream",
          "text": [
            "broke at 2018   0x829bd824b016326a401d083b33d092293333a830\n",
            "broke at 2018   0x04668ec2f57cc15c381b461b9fedab5d451c8f7f\n"
          ],
          "name": "stdout"
        },
        {
          "output_type": "stream",
          "text": [
            "ERROR:root:Exception while sending command.\n",
            "Traceback (most recent call last):\n",
            "  File \"/usr/local/lib/python3.7/dist-packages/py4j/java_gateway.py\", line 1207, in send_command\n",
            "    raise Py4JNetworkError(\"Answer from Java side is empty\")\n",
            "py4j.protocol.Py4JNetworkError: Answer from Java side is empty\n",
            "\n",
            "During handling of the above exception, another exception occurred:\n",
            "\n",
            "Traceback (most recent call last):\n",
            "  File \"/usr/local/lib/python3.7/dist-packages/py4j/java_gateway.py\", line 1033, in send_command\n",
            "    response = connection.send_command(command)\n",
            "  File \"/usr/local/lib/python3.7/dist-packages/py4j/java_gateway.py\", line 1212, in send_command\n",
            "    \"Error while receiving\", e, proto.ERROR_ON_RECEIVE)\n",
            "py4j.protocol.Py4JNetworkError: Error while receiving\n"
          ],
          "name": "stderr"
        },
        {
          "output_type": "stream",
          "text": [
            "broke at 2019   0xea674fdde714fd979de3edf0f56aa9716b898ec8\n",
            "you got an error at address=0x1ad91ee08f21be3de0ba2ba6918e714da6b45836 \n",
            "startblock= 6988615\n",
            "endblock=9193266\n",
            "broke at 2019   0x1ad91ee08f21be3de0ba2ba6918e714da6b45836\n"
          ],
          "name": "stdout"
        },
        {
          "output_type": "stream",
          "text": [
            "ERROR:root:Exception while sending command.\n",
            "Traceback (most recent call last):\n",
            "  File \"/usr/local/lib/python3.7/dist-packages/py4j/java_gateway.py\", line 1207, in send_command\n",
            "    raise Py4JNetworkError(\"Answer from Java side is empty\")\n",
            "py4j.protocol.Py4JNetworkError: Answer from Java side is empty\n",
            "\n",
            "During handling of the above exception, another exception occurred:\n",
            "\n",
            "Traceback (most recent call last):\n",
            "  File \"/usr/local/lib/python3.7/dist-packages/py4j/java_gateway.py\", line 1033, in send_command\n",
            "    response = connection.send_command(command)\n",
            "  File \"/usr/local/lib/python3.7/dist-packages/py4j/java_gateway.py\", line 1212, in send_command\n",
            "    \"Error while receiving\", e, proto.ERROR_ON_RECEIVE)\n",
            "py4j.protocol.Py4JNetworkError: Error while receiving\n"
          ],
          "name": "stderr"
        },
        {
          "output_type": "stream",
          "text": [
            "broke at 2019   0x5a0b54d5dc17e0aadc383d2db43b0a0d3e029c4c\n"
          ],
          "name": "stdout"
        },
        {
          "output_type": "stream",
          "text": [
            "ERROR:root:Exception while sending command.\n",
            "Traceback (most recent call last):\n",
            "  File \"/usr/local/lib/python3.7/dist-packages/py4j/java_gateway.py\", line 1207, in send_command\n",
            "    raise Py4JNetworkError(\"Answer from Java side is empty\")\n",
            "py4j.protocol.Py4JNetworkError: Answer from Java side is empty\n",
            "\n",
            "During handling of the above exception, another exception occurred:\n",
            "\n",
            "Traceback (most recent call last):\n",
            "  File \"/usr/local/lib/python3.7/dist-packages/py4j/java_gateway.py\", line 1033, in send_command\n",
            "    response = connection.send_command(command)\n",
            "  File \"/usr/local/lib/python3.7/dist-packages/py4j/java_gateway.py\", line 1212, in send_command\n",
            "    \"Error while receiving\", e, proto.ERROR_ON_RECEIVE)\n",
            "py4j.protocol.Py4JNetworkError: Error while receiving\n"
          ],
          "name": "stderr"
        },
        {
          "output_type": "stream",
          "text": [
            "broke at 2019   0x829bd824b016326a401d083b33d092293333a830\n"
          ],
          "name": "stdout"
        },
        {
          "output_type": "stream",
          "text": [
            "ERROR:root:Exception while sending command.\n",
            "Traceback (most recent call last):\n",
            "  File \"/usr/local/lib/python3.7/dist-packages/py4j/java_gateway.py\", line 1207, in send_command\n",
            "    raise Py4JNetworkError(\"Answer from Java side is empty\")\n",
            "py4j.protocol.Py4JNetworkError: Answer from Java side is empty\n",
            "\n",
            "During handling of the above exception, another exception occurred:\n",
            "\n",
            "Traceback (most recent call last):\n",
            "  File \"/usr/local/lib/python3.7/dist-packages/py4j/java_gateway.py\", line 1033, in send_command\n",
            "    response = connection.send_command(command)\n",
            "  File \"/usr/local/lib/python3.7/dist-packages/py4j/java_gateway.py\", line 1212, in send_command\n",
            "    \"Error while receiving\", e, proto.ERROR_ON_RECEIVE)\n",
            "py4j.protocol.Py4JNetworkError: Error while receiving\n"
          ],
          "name": "stderr"
        },
        {
          "output_type": "stream",
          "text": [
            "broke at 2019   0x04668ec2f57cc15c381b461b9fedab5d451c8f7f\n"
          ],
          "name": "stdout"
        },
        {
          "output_type": "stream",
          "text": [
            "ERROR:root:Exception while sending command.\n",
            "Traceback (most recent call last):\n",
            "  File \"/usr/local/lib/python3.7/dist-packages/py4j/java_gateway.py\", line 1207, in send_command\n",
            "    raise Py4JNetworkError(\"Answer from Java side is empty\")\n",
            "py4j.protocol.Py4JNetworkError: Answer from Java side is empty\n",
            "\n",
            "During handling of the above exception, another exception occurred:\n",
            "\n",
            "Traceback (most recent call last):\n",
            "  File \"/usr/local/lib/python3.7/dist-packages/py4j/java_gateway.py\", line 1033, in send_command\n",
            "    response = connection.send_command(command)\n",
            "  File \"/usr/local/lib/python3.7/dist-packages/py4j/java_gateway.py\", line 1212, in send_command\n",
            "    \"Error while receiving\", e, proto.ERROR_ON_RECEIVE)\n",
            "py4j.protocol.Py4JNetworkError: Error while receiving\n"
          ],
          "name": "stderr"
        },
        {
          "output_type": "stream",
          "text": [
            "broke at 2020   0xea674fdde714fd979de3edf0f56aa9716b898ec8\n"
          ],
          "name": "stdout"
        },
        {
          "output_type": "stream",
          "text": [
            "ERROR:root:Exception while sending command.\n",
            "Traceback (most recent call last):\n",
            "  File \"/usr/local/lib/python3.7/dist-packages/py4j/java_gateway.py\", line 1207, in send_command\n",
            "    raise Py4JNetworkError(\"Answer from Java side is empty\")\n",
            "py4j.protocol.Py4JNetworkError: Answer from Java side is empty\n",
            "\n",
            "During handling of the above exception, another exception occurred:\n",
            "\n",
            "Traceback (most recent call last):\n",
            "  File \"/usr/local/lib/python3.7/dist-packages/py4j/java_gateway.py\", line 1033, in send_command\n",
            "    response = connection.send_command(command)\n",
            "  File \"/usr/local/lib/python3.7/dist-packages/py4j/java_gateway.py\", line 1212, in send_command\n",
            "    \"Error while receiving\", e, proto.ERROR_ON_RECEIVE)\n",
            "py4j.protocol.Py4JNetworkError: Error while receiving\n"
          ],
          "name": "stderr"
        },
        {
          "output_type": "stream",
          "text": [
            "broke at 2020   0x1ad91ee08f21be3de0ba2ba6918e714da6b45836\n",
            "Call:0 Time:0:00:20.901089 Block:11912245 Blocks Left:-347226\n",
            "You have done data aggregation\n",
            "Verify that these months are correct\n",
            "['2020-1' '2020-2' '2020-8' '2020-5' '2020-3' '2020-9' '2020-11' '2020-4'\n",
            " '2020-10' '2020-7' '2020-12' '2020-6']\n",
            "Saved 2020 and 0x5a0b54d5dc17e0aadc383d2db43b0a0d3e029c4c to Google Drive\n",
            "Call:0 Time:0:00:06.507491 Block:9237366 Blocks Left:2327653\n",
            "Call:10 Time:0:00:32.251492 Block:9484988 Blocks Left:2080031\n",
            "Call:20 Time:0:00:35.150761 Block:9718785 Blocks Left:1846234\n",
            "Call:30 Time:0:00:37.361883 Block:9977818 Blocks Left:1587201\n",
            "Call:40 Time:0:00:29.813370 Block:10261328 Blocks Left:1303691\n",
            "Call:50 Time:0:00:31.149259 Block:10564535 Blocks Left:1000484\n",
            "Call:60 Time:0:00:29.416727 Block:10811704 Blocks Left:753315\n",
            "Call:70 Time:0:00:36.690635 Block:11018470 Blocks Left:546549\n",
            "Call:80 Time:0:00:35.781963 Block:11259793 Blocks Left:305226\n",
            "Call:90 Time:0:00:42.617766 Block:11487771 Blocks Left:77248\n",
            "You have done data aggregation\n",
            "Verify that these months are correct\n",
            "['2020-1' '2020-2' '2020-3' '2020-4' '2020-5' '2020-6' '2020-7' '2020-8'\n",
            " '2020-9' '2020-10' '2020-11' '2020-12']\n",
            "Saved 2020 and 0x829bd824b016326a401d083b33d092293333a830 to Google Drive\n",
            "Call:0 Time:0:00:06.122131 Block:9601997 Blocks Left:1963022\n",
            "Call:10 Time:0:00:30.957612 Block:10935249 Blocks Left:629770\n",
            "You have done data aggregation\n",
            "Verify that these months are correct\n",
            "['2020-1' '2020-2' '2020-3' '2020-4' '2020-5' '2020-6' '2020-7' '2020-8'\n",
            " '2020-9' '2020-10' '2020-11' '2020-12']\n",
            "Saved 2020 and 0x04668ec2f57cc15c381b461b9fedab5d451c8f7f to Google Drive\n",
            "broke at 2021   0xea674fdde714fd979de3edf0f56aa9716b898ec8\n",
            "broke at 2021   0x1ad91ee08f21be3de0ba2ba6918e714da6b45836\n",
            "broke at 2021   0x5a0b54d5dc17e0aadc383d2db43b0a0d3e029c4c\n",
            "broke at 2021   0x829bd824b016326a401d083b33d092293333a830\n",
            "broke at 2021   0x04668ec2f57cc15c381b461b9fedab5d451c8f7f\n",
            "CPU times: user 15min 16s, sys: 13.1 s, total: 15min 29s\n",
            "Wall time: 1h 32min 35s\n"
          ],
          "name": "stdout"
        }
      ]
    },
    {
      "cell_type": "code",
      "metadata": {
        "id": "z0httE21z3hd"
      },
      "source": [
        "print(ETHERMINE_WALLET)\n",
        "print(pools[0])\n",
        "\n"
      ],
      "execution_count": null,
      "outputs": []
    },
    {
      "cell_type": "code",
      "metadata": {
        "id": "QDVXl7jB5kCd"
      },
      "source": [
        "# miner_rdd = local_transaction_rdd.groupby('to_address','year_month').sum('value_in_ether') \n",
        "# miner_rdd = miner_rdd.withColumn('from_address', lit(pool_address)) # add the pool address as a column might be unneccessary since you have this in the header\n",
        "# miner_rdd = miner_rdd.filter(miner_rdd['year_month'].contains(str(year))) # only include the data where the month_year.conaints '2016\n",
        "# df = miner_rdd.toPandas()\n",
        "# # you might want to drop the other columns\n",
        "# # you would drop (Year, Month, and )\n",
        "# print('Verify that these months are correct')\n",
        "# print(df['year_month'].unique())"
      ],
      "execution_count": null,
      "outputs": []
    },
    {
      "cell_type": "markdown",
      "metadata": {
        "id": "ReZSkiycoGoE"
      },
      "source": [
        "### Estimated Timecosts \n",
        "\n",
        "This is the number of API calls you need to make for Ethermine.io \n",
        "Spark pool is similar in size, the other pools are much smaller. "
      ]
    },
    {
      "cell_type": "code",
      "metadata": {
        "id": "OcSH0GqqPo5X"
      },
      "source": [
        "# How many API calls do you need to make?\n",
        "n_transactions = 40000000\n",
        "reccords_per_call = 10000\n",
        "total_api_calls = n_transactions/reccords_per_call\n",
        "base_time_cost_per_api_call = 5 #Loose Uppperbound It is really 3.5 seconds\n",
        "seconds_needed = (base_time_cost_per_api_call *total_api_calls) \n",
        "hours = seconds_needed/3600 # 3600 is seconds in an hour\n",
        "print(f'Upper bound for API calls for ethermine {total_api_calls_needed}') # upper bound is 5 hours.\n",
        "print(f'Upper bound for hours to get all of Ethermine hours to get everything from ethermine {hours}')"
      ],
      "execution_count": null,
      "outputs": []
    },
    {
      "cell_type": "code",
      "metadata": {
        "id": "2xIwf1A86gCq"
      },
      "source": [
        "\n",
        "\n",
        "# def group_miners1(transactions_rdd, max_block, min_block):\n",
        "#   \"\"\"\n",
        "#   Old version works at small scale breaks  as you hit year 3  due to memeory leak somewhere. \n",
        "#   If you restart the run every year it ought to work\n",
        "#   \"\"\"\n",
        "#   transactions_rdd.createTempTable(\"raw_transactions\") \n",
        "\n",
        "#   monthly_miner_revenue_query =f\"\"\" SELECT to_address, year_month, ROUND(sum(value_in_ether),9) as eth_earned\n",
        "#                                     FROM raw_transactions \n",
        "#                                     Where block_number < {max_block} and block_number > {min_block}\n",
        "#                                     GROUP BY to_address, year_month\n",
        "#                                     ORDER BY to_address, year_month \n",
        "#                                 \"\"\"\n",
        "\n",
        "#   miners_sql_df = spark.sql(monthly_miner_revenue_query)\n",
        "#   miners_sql_df = miners_sql_df.withColumn('from_address', lit(pool_address)) # add the pool address back into the rdd\n",
        "#   df = miners_sql_df.toPandas()\n",
        "#   print('Verify that these months are correct')\n",
        "#   print(df['year_month'].unique())\n",
        "#   return df"
      ],
      "execution_count": null,
      "outputs": []
    },
    {
      "cell_type": "markdown",
      "metadata": {
        "id": "H16oV8RENRNw"
      },
      "source": [
        "## This is the first draft of the notebook I am writing for my Economics Capstone to get a published paper.\n",
        "\n",
        "https://www.etherchain.org/charts Look at \"mining revenue\" gives USD value per day of a GH/s. Use this instead of building it yourself.\n",
        "### Outline: What will this notebook do?\n",
        "\n",
        "1. Use the Etherscan.io charts to convert into production \n",
        "* Block Number to Date.(Year, Month)\n",
        "* (Year, Month) to Monthly average Value of 1 day of mining at 1 GH/s (Etherscan.io chart). Just average by month. \n",
        "\n",
        "* (Year, Month) to Average ETH Price. \n",
        "\n",
        "\n",
        "* You will need a dictionary that looks like \n",
        "(Year, Month): Average Gh/s needed to mine make 1 ETH \n",
        "### Called production dictionary. \n",
        "\n",
        "2. You will need to write custom Estimate_hashrate \n",
        "\n",
        "*Pseudocode:\n",
        "  Estimate_HashRate(Year, Month, ETH earned this month):\n",
        "\n",
        "  estimated_hashrate_in_ghS = Production_Dictionary[(Year, Month) * ETH earned  this month)\n",
        "\n",
        "\n",
        "3. Use the Etherscan.io API to get all of the transactions from 5 large pools, and store that in pyspark on Google Colab. You will need to save that to someplace in the cloud so that you can get it later and put the public link. I think drop box is the right place for it.\n",
        "\n",
        " -> What I want the data to look like.\n",
        " This information is factual raw data. \n",
        "(Block Number of Transaction, Pool Address, Miner Address, Amount of ETH)\n",
        "\n",
        "\n",
        "Every Single Transaction will be mapped into this form. \n",
        "\n",
        "(Block Number, Day, Year, Month, Pool Address, Miner Address, Amount of ETH, Estimated_hashrate)\n",
        "\n",
        "This data will then be grouped by Miner_address and Month.\n",
        "\n",
        "Intermediate(after group by) result:\n",
        "\n",
        "Month, Year, Pool Address, Miner Address, ETH Earned this month, Estimated Hashrate, (ETH earned this month * Average Monthly Price of ETH) as monthly USD Revenue.\n",
        "\n",
        "Frame work for Miner Features\n",
        "This is how I am choosing to categorize Miners. \n",
        "\n",
        "## Miner Features\n",
        "Start month ( cast this as an int with January 2015 as 1). # month of first  income).\n",
        "End Month (cast this as an int with March 2021 as the 80 or whatever the number happens to be). Last month with income. or + infinity if that was march 2021. Age as number of full months,\n",
        "Median Hashrate, as size. \n",
        "\n",
        "Dummy Varibles for Pool address, \n",
        "Dummy Variables for if they went to a different\n",
        "\n",
        "Framework for OLS regression:\n",
        "\n",
        "##Independent variable: \n",
        "* Estimated Monthly Hashrate.\n",
        "\n",
        "###Dependent Variables\n",
        "Miner Features. \n",
        "Year\n",
        "Month,\n",
        "Average ETH price,\n",
        "average Gh/s value\n",
        "\n"
      ]
    }
  ]
}